{
 "cells": [
  {
   "cell_type": "markdown",
   "id": "special-munich",
   "metadata": {},
   "source": [
    "*: For core functionality, including pretty-printing code, it's 55 lines.\n",
    "\n",
    "I went looking for a trie implementation for [wordle-squared](/games/wordle-squared), but I found solutions that were over-complicated and messy. Hopefully this is useful to you! A trie implementation that's about as simple as possible, pythonic, and includes some basic utilities and pretty printing.\n",
    "\n",
    "## What is a Trie? (Quickly)\n",
    "A trie, otherwise known as a prefix-tree, is a datastructure for storing sequences. Instead of storing data in the nodes, a single element of the sequence is stored in each edge. The path from the root to a node then restores the sequence. This is an implementation of a trie for strings; each edge stores a character. It's great for quickly finding words that have a certain prefix or finding letters that may continue a stem. I used it to quickly generate millions of word-grids for the aforementioned wordle-squared game I developed. \n",
    "\n",
    "If you're looking for a longer description of what a Trie is and why you should care... Try [wikipedia](https://en.wikipedia.org/wiki/Trie)\n",
    "\n",
    "## The Code\n",
    "Without further adieu, here's the code! Of course, it's free to use without creditation."
   ]
  },
  {
   "cell_type": "code",
   "execution_count": 1,
   "id": "derived-sessions",
   "metadata": {},
   "outputs": [],
   "source": [
    "from collections import defaultdict\n",
    "\n",
    "class TrieNode(object):\n",
    "    def __init__(self):\n",
    "        # Maps char -> TrieNode\n",
    "        self.children = defaultdict(lambda: TrieNode())\n",
    "        # This node may have children, but if any words terminate here, this is true.\n",
    "        self.can_terminate_word = False\n",
    "\n",
    "    def add(self, word: str):\n",
    "        if not word:\n",
    "            self.can_terminate_word = True\n",
    "            return\n",
    "        head, *tail = word\n",
    "        node = self.children[head].add(tail)\n",
    "                \n",
    "    def find_prefix(self, word: str):\n",
    "        if word:\n",
    "            head, *tail = word\n",
    "            if head in self.children:\n",
    "                return self.children[head].find_prefix(tail)\n",
    "            else:\n",
    "                print(\"Prefix not found in tree\")\n",
    "                return None\n",
    "        else:\n",
    "            return self\n",
    "\n",
    "    def suffixes(self):\n",
    "        if self.can_terminate_word:\n",
    "            yield \"\"\n",
    "        for letter, node in sorted(self.children.items()):\n",
    "            for suffix in node.suffixes():\n",
    "                yield letter + suffix\n",
    "                \n",
    "    def pprint(self):\n",
    "        print(\" +\", end='')\n",
    "        self._pprint()\n",
    "\n",
    "    def _pprint(self, indent_str=\"\"):          \n",
    "        needs_indent = False\n",
    "                        \n",
    "        if self.can_terminate_word:\n",
    "            print(\".\")  # Terminate with '.'\n",
    "            needs_indent = True\n",
    "\n",
    "        for ix, (letter, node) in enumerate(sorted(self.children.items())):\n",
    "            last_child = ix == len(self.children)-1\n",
    "\n",
    "            if needs_indent:\n",
    "                print(indent_str + \" +\", end='')\n",
    "            print('-' + letter, end='')\n",
    "            \n",
    "            child_indent = indent_str + (\"  \" if last_child else \" |\")\n",
    "            node._pprint(child_indent)\n",
    "            needs_indent = True"
   ]
  },
  {
   "cell_type": "markdown",
   "id": "level-wildlife",
   "metadata": {},
   "source": [
    "## How to use it:\n",
    "First, let's get some words..."
   ]
  },
  {
   "cell_type": "code",
   "execution_count": 2,
   "id": "residential-skiing",
   "metadata": {},
   "outputs": [
    {
     "data": {
      "text/plain": [
       "['', \"We're\", 'no', 'strangers', 'to', 'love', 'You', 'know', 'the', 'rules']"
      ]
     },
     "execution_count": 2,
     "metadata": {},
     "output_type": "execute_result"
    }
   ],
   "source": [
    "words = \"\"\"\n",
    "We're no strangers to love\n",
    "You know the rules and so do I\n",
    "A full commitment's what I'm thinking of\n",
    "You wouldn't get this from any other guy\n",
    "I just wanna tell you how I'm feeling\n",
    "Gotta make you understand\n",
    "Never gonna give you up\n",
    "Never gonna let you down\n",
    "Never gonna run around and desert you\n",
    "Never gonna make you cry\n",
    "Never gonna say goodbye\n",
    "Never gonna tell a lie and hurt you\n",
    "We've known each other for so long\n",
    "\"\"\".replace(\"\\n\", \" \").split(\" \")\n",
    "\n",
    "words[:10]"
   ]
  },
  {
   "cell_type": "markdown",
   "id": "published-blair",
   "metadata": {},
   "source": [
    "Adding words to the trie is as simple as root_node.add()"
   ]
  },
  {
   "cell_type": "code",
   "execution_count": 3,
   "id": "operating-aviation",
   "metadata": {},
   "outputs": [],
   "source": [
    "root = TrieNode()\n",
    "for word in words:\n",
    "    root.add(word.lower())"
   ]
  },
  {
   "cell_type": "markdown",
   "id": "charged-declaration",
   "metadata": {},
   "source": [
    "You can pretty-print the trie using .pprint()."
   ]
  },
  {
   "cell_type": "code",
   "execution_count": 4,
   "id": "german-region",
   "metadata": {},
   "outputs": [
    {
     "name": "stdout",
     "output_type": "stream",
     "text": [
      " +.\n",
      " +-a.\n",
      " | +-n-d.\n",
      " | | +-y.\n",
      " | +-r-o-u-n-d.\n",
      " +-c-o-m-m-i-t-m-e-n-t-'-s.\n",
      " | +-r-y.\n",
      " +-d-e-s-e-r-t.\n",
      " | +-o.\n",
      " |   +-w-n.\n",
      " +-e-a-c-h.\n",
      " +-f-e-e-l-i-n-g.\n",
      " | +-o-r.\n",
      " | +-r-o-m.\n",
      " | +-u-l-l.\n",
      " +-g-e-t.\n",
      " | +-i-v-e.\n",
      " | +-o-n-n-a.\n",
      " | | +-o-d-b-y-e.\n",
      " | | +-t-t-a.\n",
      " | +-u-y.\n",
      " +-h-o-w.\n",
      " | +-u-r-t.\n",
      " +-i.\n",
      " | +-'-m.\n",
      " +-j-u-s-t.\n",
      " +-k-n-o-w.\n",
      " |       +-n.\n",
      " +-l-e-t.\n",
      " | +-i-e.\n",
      " | +-o-n-g.\n",
      " |   +-v-e.\n",
      " +-m-a-k-e.\n",
      " +-n-e-v-e-r.\n",
      " | +-o.\n",
      " +-o-f.\n",
      " | +-t-h-e-r.\n",
      " +-r-u-l-e-s.\n",
      " |   +-n.\n",
      " +-s-a-y.\n",
      " | +-o.\n",
      " | +-t-r-a-n-g-e-r-s.\n",
      " +-t-e-l-l.\n",
      " | +-h-e.\n",
      " | | +-i-n-k-i-n-g.\n",
      " | |   +-s.\n",
      " | +-o.\n",
      " +-u-n-d-e-r-s-t-a-n-d.\n",
      " | +-p.\n",
      " +-w-a-n-n-a.\n",
      " | +-e-'-r-e.\n",
      " | |   +-v-e.\n",
      " | +-h-a-t.\n",
      " | +-o-u-l-d-n-'-t.\n",
      " +-y-o-u.\n"
     ]
    }
   ],
   "source": [
    "root.pprint()"
   ]
  },
  {
   "cell_type": "markdown",
   "id": "treated-saudi",
   "metadata": {},
   "source": [
    "You can jump to a part of the trie with find_prefix(str)"
   ]
  },
  {
   "cell_type": "code",
   "execution_count": 5,
   "id": "fourth-composer",
   "metadata": {},
   "outputs": [
    {
     "name": "stdout",
     "output_type": "stream",
     "text": [
      " +-e.\n",
      " +-i-n-k-i-n-g.\n",
      "   +-s.\n"
     ]
    }
   ],
   "source": [
    "node = root.find_prefix('th')  # Find all words starting with 'th'\n",
    "node.pprint()"
   ]
  },
  {
   "cell_type": "markdown",
   "id": "complete-wholesale",
   "metadata": {},
   "source": [
    "You can find all word-endings starting from any node with .suffixes(), which returns a generator"
   ]
  },
  {
   "cell_type": "code",
   "execution_count": 6,
   "id": "handled-installation",
   "metadata": {},
   "outputs": [
    {
     "name": "stdout",
     "output_type": "stream",
     "text": [
      "['e', 'inking', 'is']\n"
     ]
    }
   ],
   "source": [
    "print(list(node.suffixes()))  # th-e, th-inking, th-is"
   ]
  },
  {
   "cell_type": "markdown",
   "id": "balanced-winning",
   "metadata": {},
   "source": [
    "Check if a node denotes a complete word by checking `can_terminate_word`"
   ]
  },
  {
   "cell_type": "code",
   "execution_count": 7,
   "id": "perceived-cooler",
   "metadata": {},
   "outputs": [
    {
     "name": "stdout",
     "output_type": "stream",
     "text": [
      "th: False \n",
      "the: True\n"
     ]
    }
   ],
   "source": [
    "print(\"th:\", root.find_prefix('th').can_terminate_word, \"\\n\"+\n",
    "      \"the:\", root.find_prefix('the').can_terminate_word)"
   ]
  },
  {
   "cell_type": "markdown",
   "id": "athletic-balance",
   "metadata": {},
   "source": [
    "All of these can be used from any part of the tree!"
   ]
  },
  {
   "cell_type": "code",
   "execution_count": 8,
   "id": "conscious-thread",
   "metadata": {},
   "outputs": [
    {
     "name": "stdout",
     "output_type": "stream",
     "text": [
      " +-e.\n",
      " | +-r-e.\n",
      " +-i-n-k-i-n-g.\n",
      "   +-s.\n"
     ]
    }
   ],
   "source": [
    "root.find_prefix('t').find_prefix('h').add('ere')  # Add 'there'\n",
    "\n",
    "root.find_prefix('th').pprint()  # Check there's there."
   ]
  },
  {
   "cell_type": "markdown",
   "id": "connected-bradford",
   "metadata": {},
   "source": [
    "I hope that was helpful!"
   ]
  }
 ],
 "metadata": {
  "kernelspec": {
   "display_name": "Python 3",
   "language": "python",
   "name": "python3"
  },
  "language_info": {
   "codemirror_mode": {
    "name": "ipython",
    "version": 3
   },
   "file_extension": ".py",
   "mimetype": "text/x-python",
   "name": "python",
   "nbconvert_exporter": "python",
   "pygments_lexer": "ipython3",
   "version": "3.8.3"
  },
  "nikola": {
   "category": "",
   "date": "2022-05-21 23:48:11 UTC+01:00",
   "description": "Reference, simple, no-fuss trie implementation in python w/ examples, pretty-printing and more.",
   "link": "",
   "slug": "python-trie",
   "tags": "programming",
   "title": "A Trie in Python in under 34 Lines*",
   "type": "text"
  }
 },
 "nbformat": 4,
 "nbformat_minor": 5
}
